{
  "nbformat": 4,
  "nbformat_minor": 0,
  "metadata": {
    "colab": {
      "name": "Divar NLP workshop colab environment.ipynb",
      "provenance": [],
      "collapsed_sections": []
    },
    "kernelspec": {
      "name": "python3",
      "display_name": "Python 3"
    },
    "language_info": {
      "name": "python"
    }
  },
  "cells": [
    {
      "cell_type": "markdown",
      "source": [
        "# Setup Environment"
      ],
      "metadata": {
        "id": "s5oB5v0IAwPY"
      }
    },
    {
      "cell_type": "markdown",
      "source": [
        "## Download and unzip `divar_advertisements_v1.0.zip` & `divar-nlp-workshop-guideline.zip`"
      ],
      "metadata": {
        "id": "j1NmSBvoA_5p"
      }
    },
    {
      "cell_type": "code",
      "source": [
        "!mkdir input-data\n",
        "!wget https://phanous.ir/phanous-resources/divar_advertisements_v1.0.zip &> /dev/null\n",
        "!unzip divar_advertisements_v1.0.zip -d input-data\n",
        "!wget --no-check-certificate 'https://docs.google.com/uc?export=download&id=1IrznMqZNsD8buRYzrErkkhhEypA6nsKx' -O divar-nlp-workshop-guideline.zip &> /dev/null\n",
        "!unzip divar-nlp-workshop-guideline.zip &> /dev/null"
      ],
      "metadata": {
        "id": "uw_NpfJ0Bb-z"
      },
      "execution_count": null,
      "outputs": []
    },
    {
      "cell_type": "markdown",
      "source": [
        "## Install `miniconda` and dependecies"
      ],
      "metadata": {
        "id": "PAxfEwAlBOrJ"
      }
    },
    {
      "cell_type": "code",
      "source": [
        "%%bash\n",
        "MINICONDA_INSTALLER_SCRIPT=Miniconda3-4.5.4-Linux-x86_64.sh\n",
        "MINICONDA_PREFIX=/usr/local\n",
        "wget https://repo.continuum.io/miniconda/$MINICONDA_INSTALLER_SCRIPT &> /dev/null\n",
        "chmod +x $MINICONDA_INSTALLER_SCRIPT\n",
        "./$MINICONDA_INSTALLER_SCRIPT -b -f -p $MINICONDA_PREFIX &> /dev/null"
      ],
      "metadata": {
        "id": "R-GF9h4LyGTD"
      },
      "execution_count": null,
      "outputs": []
    },
    {
      "cell_type": "code",
      "source": [
        "!conda install --channel defaults conda python=3.8 --yes &> /dev/null\n",
        "!conda env update -f environment.yml -n base  &> /dev/null\n",
        "import sys\n",
        "_ = (sys.path.append(\"/usr/local/lib/python3.8/site-packages\"))"
      ],
      "metadata": {
        "id": "G7cpfJhdRCYm"
      },
      "execution_count": null,
      "outputs": []
    },
    {
      "cell_type": "markdown",
      "source": [
        "At this point you have necessary libraries and FastText installed as one of `gensim`'s models:\n",
        "\n",
        "`from gensim.models.fasttext import FastText`"
      ],
      "metadata": {
        "id": "eN5epNc_EwtH"
      }
    },
    {
      "cell_type": "markdown",
      "source": [
        "## Removing unnecessary files"
      ],
      "metadata": {
        "id": "XMSxrtlIeV5u"
      }
    },
    {
      "cell_type": "code",
      "source": [
        "!rm -rf divar_advertisements_v1.0.zip divar-nlp-workshop-guideline* environment.yml Example.ipynb \\\n",
        "'Technology Requirements NLP Workshop - Winter 2021 - Divar.docx' 'Technology Requirements NLP Workshop - Winter 2021 - Divar.pdf'"
      ],
      "metadata": {
        "id": "dmzgwvRDeb41"
      },
      "execution_count": null,
      "outputs": []
    },
    {
      "cell_type": "markdown",
      "source": [
        "# Session Codes"
      ],
      "metadata": {
        "id": "BC9vziZlFAPo"
      }
    },
    {
      "cell_type": "code",
      "source": [
        "import gensim\n",
        "import hazm\n",
        "import sklearn\n",
        "import numpy as np\n",
        "import pandas as pd\n",
        "from tqdm import tqdm\n",
        "\n",
        "# from gensim.models.fasttext import FastText\n",
        "# from gensim.models import fasttext"
      ],
      "metadata": {
        "id": "Vn471h33FDQ_"
      },
      "execution_count": null,
      "outputs": []
    }
  ]
}